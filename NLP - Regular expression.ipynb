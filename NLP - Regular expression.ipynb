{
 "cells": [
  {
   "cell_type": "code",
   "execution_count": 1,
   "metadata": {},
   "outputs": [
    {
     "name": "stdout",
     "output_type": "stream",
     "text": [
      "<re.Match object; span=(0, 5), match='Tiger'>\n"
     ]
    }
   ],
   "source": [
    "import re\n",
    "string = \"Tiger is the national animal of india\"\n",
    "pattern = \"Tiger\"\n",
    "\n",
    "m = re.match(pattern, string)\n",
    "print(m)"
   ]
  },
  {
   "cell_type": "code",
   "execution_count": 2,
   "metadata": {},
   "outputs": [
    {
     "name": "stdout",
     "output_type": "stream",
     "text": [
      "None\n"
     ]
    }
   ],
   "source": [
    "pattern2 = \"Lion\"\n",
    "\n",
    "m = re.match(pattern2, string)\n",
    "print(m)"
   ]
  },
  {
   "cell_type": "code",
   "execution_count": 3,
   "metadata": {},
   "outputs": [
    {
     "name": "stdout",
     "output_type": "stream",
     "text": [
      "<re.Match object; span=(13, 21), match='national'>\n"
     ]
    }
   ],
   "source": [
    "pattern3 =\"national\"\n",
    "m1 = re.search(pattern3, string)\n",
    "print(m1)"
   ]
  },
  {
   "cell_type": "code",
   "execution_count": 4,
   "metadata": {},
   "outputs": [
    {
     "name": "stdout",
     "output_type": "stream",
     "text": [
      "['national', 'national']\n"
     ]
    }
   ],
   "source": [
    "string = \"Tiger is the national animal of india and national sports is hockey\"\n",
    "pattern = \"national\"\n",
    "m2 = re.findall(pattern, string)\n",
    "print(m2)"
   ]
  },
  {
   "cell_type": "code",
   "execution_count": 6,
   "metadata": {},
   "outputs": [
    {
     "name": "stdout",
     "output_type": "stream",
     "text": [
      "13\n",
      "42\n"
     ]
    }
   ],
   "source": [
    "m2 = re.finditer(pattern, string)\n",
    "for m in m2:\n",
    "    print(m.start())"
   ]
  },
  {
   "cell_type": "code",
   "execution_count": 9,
   "metadata": {},
   "outputs": [
    {
     "name": "stdout",
     "output_type": "stream",
     "text": [
      "['09-1999', '02-2003']\n"
     ]
    }
   ],
   "source": [
    "string = \"Ron was born on 12-09-1999 and he was admitted on 15-02-2003\"\n",
    "pattern = \"\\d{2}-\\d{2}\\d{2}\"\n",
    "m4 = re.findall(pattern, string)\n",
    "print(m4)"
   ]
  },
  {
   "cell_type": "code",
   "execution_count": 11,
   "metadata": {},
   "outputs": [
    {
     "name": "stdout",
     "output_type": "stream",
     "text": [
      "Rajeev was born on 12-09-1999 and he was admitted on 15-02-2003\n"
     ]
    }
   ],
   "source": [
    "pattern = \"Ron\"\n",
    "replacement = \"Rajeev\"\n",
    "m5 = re.sub(pattern, replacement, string)\n",
    "print(m5)"
   ]
  }
 ],
 "metadata": {
  "kernelspec": {
   "display_name": "Python 3",
   "language": "python",
   "name": "python3"
  },
  "language_info": {
   "codemirror_mode": {
    "name": "ipython",
    "version": 3
   },
   "file_extension": ".py",
   "mimetype": "text/x-python",
   "name": "python",
   "nbconvert_exporter": "python",
   "pygments_lexer": "ipython3",
   "version": "3.7.6"
  }
 },
 "nbformat": 4,
 "nbformat_minor": 4
}
